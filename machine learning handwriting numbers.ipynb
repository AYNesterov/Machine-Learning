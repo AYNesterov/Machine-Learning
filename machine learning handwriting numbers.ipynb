{
  "cells": [
    {
      "cell_type": "markdown",
      "source": [
        "## Using Decision Tree and Nearest Neighbor Methods in a Handwritten Digit Problem"
      ],
      "metadata": {}
    },
    {
      "cell_type": "code",
      "source": [
        "import numpy as np\n",
        "import seaborn as sns\n",
        "from matplotlib import pyplot as plt\n",
        "%matplotlib inline\n",
        "\n",
        "from sklearn.datasets import load_digits #dataset\n",
        "from sklearn.model_selection import train_test_split, StratifiedKFold\n",
        "from sklearn.neighbors import KNeighborsClassifier\n",
        "from sklearn.tree import DecisionTreeClassifier"
      ],
      "outputs": [],
      "execution_count": null,
      "metadata": {}
    },
    {
      "cell_type": "code",
      "source": [
        "data = load_digits()\n",
        "X, y = data.data, data.target\n",
        "\nX[0,:].reshape([8,8]) #a picture – matrix 8х8 turns into a vector"
      ],
      "outputs": [],
      "execution_count": null,
      "metadata": {}
    },
    {
      "cell_type": "markdown",
      "source": [
        "### Drawing numbers"
      ],
      "metadata": {}
    },
    {
      "cell_type": "code",
      "source": [
        "f, axes = plt.subplots(1,10,figsize=(16,4))\n",
        "for i in range(10):\n",
        "    axes[i].imshow(X[i,:].reshape([8,8]));"
      ],
      "outputs": [],
      "execution_count": null,
      "metadata": {}
    },
    {
      "cell_type": "markdown",
      "source": [
        "### Test and hold-out"
      ],
      "metadata": {}
    },
    {
      "cell_type": "code",
      "source": [
        "# 30% – hold-out (X_holdout, y_holdout)\n",
        "X_train, X_holdout, y_train, y_holdout = train_test_split(X, y, test_size=0.3, random_state=17) "
      ],
      "outputs": [],
      "execution_count": null,
      "metadata": {}
    },
    {
      "cell_type": "code",
      "source": [
        "tree = DecisionTreeClassifier(max_depth=5, random_state=17) # random parameters\n",
        "knn = KNeighborsClassifier(n_neighbors=10)\n",
        "\n",
        "tree.fit(X_train, y_train)\n",
        "knn.fit(X_train, y_train)"
      ],
      "outputs": [],
      "execution_count": null,
      "metadata": {}
    },
    {
      "cell_type": "markdown",
      "source": [
        "### Accuracy scores of Decision Tree and Nearest Neighbor Methods"
      ],
      "metadata": {}
    },
    {
      "cell_type": "code",
      "source": [
        "from sklearn.metrics import accuracy_score"
      ],
      "outputs": [],
      "execution_count": null,
      "metadata": {}
    },
    {
      "cell_type": "code",
      "source": [
        "tree_pred = tree.predict(X_holdout)\n",
        "knn_pred = knn.predict(X_holdout)\n",
        "print(f\"Tree: {accuracy_score(y_holdout, tree_pred).round(2)}\", f\"kNN: {accuracy_score(y_holdout, knn_pred).round(2)}\")"
      ],
      "outputs": [],
      "execution_count": null,
      "metadata": {}
    },
    {
      "cell_type": "markdown",
      "source": [
        "### Cross-validation"
      ],
      "metadata": {}
    },
    {
      "cell_type": "code",
      "source": [
        "from sklearn.model_selection import GridSearchCV, cross_val_score"
      ],
      "outputs": [],
      "execution_count": null,
      "metadata": {}
    },
    {
      "cell_type": "code",
      "source": [
        "tree_params = {'max_depth': [1, 2, 3, 5, 10, 20, 25, 30, 40, 50, 64],\n",
        "'max_features': [1, 2, 3, 5, 10, 20 ,30, 50, 64]}\n",
        "\n",
        "tree_grid = GridSearchCV(tree, tree_params, cv=5, n_jobs=-1, verbose=True)\n",
        "\ntree_grid.fit(X_train, y_train)"
      ],
      "outputs": [],
      "execution_count": null,
      "metadata": {}
    },
    {
      "cell_type": "code",
      "source": [
        "print(f\"Tree: {(tree_grid.best_score_).round(2)}\",\\\n",
        "      f\"kNN: {(np.mean(cross_val_score(KNeighborsClassifier(n_neighbors=1), X_train, y_train, cv=5))).round(2)}\" )"
      ],
      "outputs": [],
      "execution_count": null,
      "metadata": {}
    },
    {
      "cell_type": "markdown",
      "source": [
        "#### Result: Nearest Neighbour method works better than Decision Tree in this case. The accuracy is 99%."
      ],
      "metadata": {}
    }
  ],
  "metadata": {
    "kernelspec": {
      "name": "python3",
      "language": "python",
      "display_name": "Python 3"
    },
    "language_info": {
      "name": "python",
      "version": "3.6.1",
      "mimetype": "text/x-python",
      "codemirror_mode": {
        "name": "ipython",
        "version": 3
      },
      "pygments_lexer": "ipython3",
      "nbconvert_exporter": "python",
      "file_extension": ".py"
    },
    "kernel_info": {
      "name": "python3"
    },
    "nteract": {
      "version": "0.12.3"
    }
  },
  "nbformat": 4,
  "nbformat_minor": 2
}