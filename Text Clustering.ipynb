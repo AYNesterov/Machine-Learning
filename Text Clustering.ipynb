{
  "cells": [
    {
      "cell_type": "markdown",
      "source": [
        "### TF = вхождение термина / все слова в документе\n",
        "### IDF = -log(число документов, в которых есть термин / все документы)"
      ],
      "metadata": {}
    },
    {
      "cell_type": "markdown",
      "source": [
        "### Из массива текстов мы делаем векторы"
      ],
      "metadata": {}
    },
    {
      "cell_type": "code",
      "source": [
        "import sklearn # библиотека для машинного обучения"
      ],
      "outputs": [],
      "execution_count": null,
      "metadata": {
        "collapsed": true
      }
    },
    {
      "cell_type": "code",
      "source": [
        "from sklearn.datasets import fetch_20newsgroups"
      ],
      "outputs": [],
      "execution_count": null,
      "metadata": {
        "collapsed": true
      }
    },
    {
      "cell_type": "code",
      "source": [
        "# Уже готовый датасет\n",
        "\n",
        "dataset = fetch_20newsgroups(subset ='all', \n",
        "                             categories=['alt.atheism',\n",
        "                                        'comp.graphics',\n",
        "                                        'comp.os.ms-windows.misc'],\n",
        "                             shuffle=True, random_state=42)"
      ],
      "outputs": [],
      "execution_count": null,
      "metadata": {
        "collapsed": true
      }
    },
    {
      "cell_type": "code",
      "source": [
        "len(dataset['data']) # список строчек с сообщениями"
      ],
      "outputs": [],
      "execution_count": null,
      "metadata": {}
    },
    {
      "cell_type": "code",
      "source": [
        "dataset['target_names']"
      ],
      "outputs": [],
      "execution_count": null,
      "metadata": {}
    },
    {
      "cell_type": "code",
      "source": [
        "import numpy as np"
      ],
      "outputs": [],
      "execution_count": null,
      "metadata": {
        "collapsed": true
      }
    },
    {
      "cell_type": "code",
      "source": [
        "np.bincount(dataset['target']) # Количество текстов в каждой категории"
      ],
      "outputs": [],
      "execution_count": null,
      "metadata": {}
    },
    {
      "cell_type": "markdown",
      "source": [
        "### Далее мы векторизуем каждый текст, создаём таблицу"
      ],
      "metadata": {}
    },
    {
      "cell_type": "code",
      "source": [
        "from sklearn.feature_extraction.text import TfidfVectorizer"
      ],
      "outputs": [],
      "execution_count": null,
      "metadata": {
        "collapsed": true
      }
    },
    {
      "cell_type": "code",
      "source": [
        "vectorizer = TfidfVectorizer(max_df=0.5, min_df=2, # Если слово встречается болше чем в половине документов или менее, чем в двух, то мы его игнорируем \n",
        "                            stop_words='english',\n",
        "                            use_idf=True)"
      ],
      "outputs": [],
      "execution_count": null,
      "metadata": {
        "collapsed": true
      }
    },
    {
      "cell_type": "code",
      "source": [
        "X = vectorizer.fit_transform(dataset['data'])"
      ],
      "outputs": [],
      "execution_count": null,
      "metadata": {}
    },
    {
      "cell_type": "code",
      "source": [
        "X"
      ],
      "outputs": [],
      "execution_count": null,
      "metadata": {}
    },
    {
      "cell_type": "code",
      "source": [
        "feature_names = vectorizer.get_feature_names() # Названия столбцов в таблице, feature – это название столбца"
      ],
      "outputs": [],
      "execution_count": null,
      "metadata": {}
    },
    {
      "cell_type": "code",
      "source": [
        "feature_names.index('data') # Инднекс feature, ищем слово 'data'"
      ],
      "outputs": [],
      "execution_count": null,
      "metadata": {}
    },
    {
      "cell_type": "code",
      "source": [
        "(X[:, 7826] > 0).sum() # указываем номер столбца, в 180 текстах встречается слово 'data'"
      ],
      "outputs": [],
      "execution_count": null,
      "metadata": {}
    },
    {
      "cell_type": "code",
      "source": [
        "X # Это огромная матрица"
      ],
      "outputs": [],
      "execution_count": null,
      "metadata": {}
    },
    {
      "cell_type": "code",
      "source": [
        "from sklearn.cluster import KMeans"
      ],
      "outputs": [],
      "execution_count": null,
      "metadata": {
        "collapsed": true
      }
    },
    {
      "cell_type": "markdown",
      "source": [
        "km = KMeans(n_clusters=3, init='k-means++',\n",
        "           n_init=1, max_iter=300)"
      ],
      "metadata": {}
    },
    {
      "cell_type": "code",
      "source": [
        "km.fit(X)"
      ],
      "outputs": [],
      "execution_count": null,
      "metadata": {}
    },
    {
      "cell_type": "code",
      "source": [
        "len(km.labels_)"
      ],
      "outputs": [],
      "execution_count": null,
      "metadata": {}
    },
    {
      "cell_type": "code",
      "source": [
        "km.labels_[:10] # Кластеризованные тексты, номера кластеров, они могут не совпадать с номерами категории"
      ],
      "outputs": [],
      "execution_count": null,
      "metadata": {}
    },
    {
      "cell_type": "code",
      "source": [
        "dataset['target'][:10] # Настоящие категории текстов"
      ],
      "outputs": [],
      "execution_count": null,
      "metadata": {}
    },
    {
      "cell_type": "code",
      "source": [
        "from sklearn.metrics import homogeneity_score"
      ],
      "outputs": [],
      "execution_count": null,
      "metadata": {
        "collapsed": true
      }
    },
    {
      "cell_type": "code",
      "source": [
        "homogeneity_score(dataset['target'], km.labels_) # Проверяем соответствие"
      ],
      "outputs": [],
      "execution_count": null,
      "metadata": {}
    },
    {
      "cell_type": "code",
      "source": [
        "from sklearn.decomposition import TruncatedSVD"
      ],
      "outputs": [],
      "execution_count": null,
      "metadata": {
        "collapsed": true
      }
    },
    {
      "cell_type": "code",
      "source": [
        "pca = TruncatedSVD()"
      ],
      "outputs": [],
      "execution_count": null,
      "metadata": {
        "collapsed": true
      }
    },
    {
      "cell_type": "code",
      "source": [
        "transformed_texts = pca.fit_transform(X)"
      ],
      "outputs": [],
      "execution_count": null,
      "metadata": {}
    },
    {
      "cell_type": "code",
      "source": [
        "import matplotlib.pyplot as plt"
      ],
      "outputs": [],
      "execution_count": null,
      "metadata": {
        "collapsed": true
      }
    },
    {
      "cell_type": "code",
      "source": [
        "%matplotlib inline"
      ],
      "outputs": [],
      "execution_count": null,
      "metadata": {
        "collapsed": true
      }
    },
    {
      "cell_type": "code",
      "source": [
        "plt.scatter(transformed_texts[:,0], \n",
        "            transformed_texts[:,1],\n",
        "            c=km.labels_, alpha=0.8, cmap='rainbow')\n",
        "plt.colorbar()"
      ],
      "outputs": [],
      "execution_count": null,
      "metadata": {}
    },
    {
      "cell_type": "code",
      "source": [
        "dataset['target_names']"
      ],
      "outputs": [],
      "execution_count": null,
      "metadata": {}
    },
    {
      "cell_type": "markdown",
      "source": [
        "### Общеупотребительная лексика отсеивается при помощи TF IDF"
      ],
      "metadata": {}
    },
    {
      "cell_type": "code",
      "source": [
        "centers = pca.transform(km.cluster_centers_)"
      ],
      "outputs": [],
      "execution_count": null,
      "metadata": {}
    },
    {
      "cell_type": "code",
      "source": [
        "# Визуализируем центроиды\n",
        "\n",
        "plt.scatter(transformed_texts[: ,0],\n",
        "            transformed_texts[: ,1], \n",
        "            c = km.labels_,\n",
        "           alpha=0.2) #а это кластеризация\n",
        "centers = pca.transform(km.cluster_centers_) \n",
        "plt.scatter(centers[:,0],centers[:,1],c = [0,1,2],cmap = \"rainbow\", edgecolor = \"black\")"
      ],
      "outputs": [],
      "execution_count": null,
      "metadata": {}
    },
    {
      "cell_type": "code",
      "source": [],
      "outputs": [],
      "execution_count": null,
      "metadata": {
        "collapsed": true
      }
    }
  ],
  "metadata": {
    "kernelspec": {
      "name": "python3",
      "language": "python",
      "display_name": "Python 3"
    },
    "language_info": {
      "name": "python",
      "version": "3.6.1",
      "mimetype": "text/x-python",
      "codemirror_mode": {
        "name": "ipython",
        "version": 3
      },
      "pygments_lexer": "ipython3",
      "nbconvert_exporter": "python",
      "file_extension": ".py"
    },
    "kernel_info": {
      "name": "python3"
    },
    "nteract": {
      "version": "0.12.3"
    }
  },
  "nbformat": 4,
  "nbformat_minor": 2
}